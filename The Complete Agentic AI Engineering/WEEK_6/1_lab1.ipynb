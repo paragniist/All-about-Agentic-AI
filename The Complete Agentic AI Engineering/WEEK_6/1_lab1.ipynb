{
 "cells": [
  {
   "cell_type": "markdown",
   "metadata": {},
   "source": [
    "## WELCOME TO WEEK 6\n",
    "\n",
    "The Epic Finale Week\n",
    "\n",
    "And\n",
    "\n",
    "# WELCOME TO THE **M**ODEL **C**ONTEXT **P**ROTOCOL!\n",
    "\n",
    "And welcome back to OpenAI Agents SDK ❤️❤️❤️\n",
    "\n",
    "### Please note\n",
    "\n",
    "There may be changes here from the video as I'm always making updates!"
   ]
  },
  {
   "cell_type": "markdown",
   "metadata": {},
   "source": [
    "<table style=\"margin: 0; text-align: left; width:100%\">\n",
    "    <tr>\n",
    "        <td style=\"width: 150px; height: 150px; vertical-align: middle;\">\n",
    "            <img src=\"../assets/stop.png\" width=\"150\" height=\"150\" style=\"display: block;\" />\n",
    "        </td>\n",
    "        <td>\n",
    "            <h2 style=\"color:#ff7800;\">To my Windows PC people - an important announcement</h2>\n",
    "            <span style=\"color:#ff7800;\">I have unpleasant news. There's a problem running MCP Servers on Windows PCs; Mac and Linux is fine. This is a known issue as of May 4th, 2025. I asked o3 with Deep Research to try to find workarounds; it <a href=\"https://chatgpt.com/share/6817bbc3-3d0c-8012-9b51-631842470628\">confirmed the issue</a> and confirmed the workaround.<br/><br/>\n",
    "            The workaround is a bit of a bore. It is to take advantage of \"WSL\", the Microsoft approach for running Linux on your PC. You'll need to carry out more setup instructions! But it's quick, and several students have confirmed that this works perfectly for them, then the Week 6 MCP labs work. Plus, WSL is actually a great way to build software on your Windows PC.<br/>\n",
    "            The WSL Setup instructions are in the Setup folder, <a href=\"../setup/SETUP-WSL.md\">in the file called SETUP-WSL.md here</a>. I do hope this only holds you up briefly - you should be back up and running quickly. Oh the joys of working with bleeding-edge technology!<br/><br/>\n",
    "            With many thanks to students Markus, Abhi, Hui-Ling, and several others, for helping me work on it and confirming the fix.\n",
    "            </span>\n",
    "        </td>\n",
    "    </tr>\n",
    "</table>"
   ]
  },
  {
   "cell_type": "code",
   "execution_count": 1,
   "metadata": {},
   "outputs": [],
   "source": [
    "# The imports\n",
    "\n",
    "from dotenv import load_dotenv\n",
    "from agents import Agent, Runner, trace\n",
    "from agents.mcp import MCPServerStdio\n",
    "import os"
   ]
  },
  {
   "cell_type": "code",
   "execution_count": 2,
   "metadata": {},
   "outputs": [
    {
     "data": {
      "text/plain": [
       "True"
      ]
     },
     "execution_count": 2,
     "metadata": {},
     "output_type": "execute_result"
    }
   ],
   "source": [
    "load_dotenv(override=True)"
   ]
  },
  {
   "cell_type": "markdown",
   "metadata": {},
   "source": [
    "### Let's use MCP in OpenAI Agents SDK\n",
    "\n",
    "1. Create a Client\n",
    "\n",
    "2. Have it spawn a server\n",
    "\n",
    "3. Collect the tools that the server can use\n",
    "\n",
    "Let's try the Fetch mcp-server that we looked at last week\n",
    "\n",
    "### Special note - in case you updated the OpenAI Agents framework:\n",
    "\n",
    "OpenAI Agents SDK recently upgraded their SDK and made a breaking change (thank you, OpenAI 😂). I haven't yet updated the version in this repo to the latest version. If you've upgraded the package yourself, then you might get an error about missing positional arguments. If you get that error, you'll need to replace `await server.list_tools()` with `await server.session.list_tools()` and change the last line from `fetch_tools` to `fetch_tools.tools`. And you'll need to make this change every time you get this error! The joys of working at the bleeding edge.."
   ]
  },
  {
   "cell_type": "code",
   "execution_count": 3,
   "metadata": {},
   "outputs": [
    {
     "name": "stderr",
     "output_type": "stream",
     "text": [
      "Error initializing MCP server: \n"
     ]
    },
    {
     "ename": "NotImplementedError",
     "evalue": "",
     "output_type": "error",
     "traceback": [
      "\u001b[31m---------------------------------------------------------------------------\u001b[39m",
      "\u001b[31mNotImplementedError\u001b[39m                       Traceback (most recent call last)",
      "\u001b[36mFile \u001b[39m\u001b[32mc:\\Users\\91981\\agentic_ai\\agents\\.venv\\Lib\\site-packages\\mcp\\client\\stdio\\win32.py:72\u001b[39m, in \u001b[36mcreate_windows_process\u001b[39m\u001b[34m(command, args, env, errlog, cwd)\u001b[39m\n\u001b[32m     70\u001b[39m \u001b[38;5;28;01mtry\u001b[39;00m:\n\u001b[32m     71\u001b[39m     \u001b[38;5;66;03m# Try with Windows-specific flags to hide console window\u001b[39;00m\n\u001b[32m---> \u001b[39m\u001b[32m72\u001b[39m     process = \u001b[38;5;28;01mawait\u001b[39;00m anyio.open_process(\n\u001b[32m     73\u001b[39m         [command, *args],\n\u001b[32m     74\u001b[39m         env=env,\n\u001b[32m     75\u001b[39m         \u001b[38;5;66;03m# Ensure we don't create console windows for each process\u001b[39;00m\n\u001b[32m     76\u001b[39m         creationflags=subprocess.CREATE_NO_WINDOW  \u001b[38;5;66;03m# type: ignore\u001b[39;00m\n\u001b[32m     77\u001b[39m         \u001b[38;5;28;01mif\u001b[39;00m \u001b[38;5;28mhasattr\u001b[39m(subprocess, \u001b[33m\"\u001b[39m\u001b[33mCREATE_NO_WINDOW\u001b[39m\u001b[33m\"\u001b[39m)\n\u001b[32m     78\u001b[39m         \u001b[38;5;28;01melse\u001b[39;00m \u001b[32m0\u001b[39m,\n\u001b[32m     79\u001b[39m         stderr=errlog,\n\u001b[32m     80\u001b[39m         cwd=cwd,\n\u001b[32m     81\u001b[39m     )\n\u001b[32m     82\u001b[39m     \u001b[38;5;28;01mreturn\u001b[39;00m process\n",
      "\u001b[36mFile \u001b[39m\u001b[32mc:\\Users\\91981\\agentic_ai\\agents\\.venv\\Lib\\site-packages\\anyio\\_core\\_subprocesses.py:190\u001b[39m, in \u001b[36mopen_process\u001b[39m\u001b[34m(command, stdin, stdout, stderr, cwd, env, startupinfo, creationflags, start_new_session, pass_fds, user, group, extra_groups, umask)\u001b[39m\n\u001b[32m    188\u001b[39m     kwargs[\u001b[33m\"\u001b[39m\u001b[33mumask\u001b[39m\u001b[33m\"\u001b[39m] = umask\n\u001b[32m--> \u001b[39m\u001b[32m190\u001b[39m \u001b[38;5;28;01mreturn\u001b[39;00m \u001b[38;5;28;01mawait\u001b[39;00m get_async_backend().open_process(\n\u001b[32m    191\u001b[39m     command,\n\u001b[32m    192\u001b[39m     stdin=stdin,\n\u001b[32m    193\u001b[39m     stdout=stdout,\n\u001b[32m    194\u001b[39m     stderr=stderr,\n\u001b[32m    195\u001b[39m     cwd=cwd,\n\u001b[32m    196\u001b[39m     env=env,\n\u001b[32m    197\u001b[39m     startupinfo=startupinfo,\n\u001b[32m    198\u001b[39m     creationflags=creationflags,\n\u001b[32m    199\u001b[39m     start_new_session=start_new_session,\n\u001b[32m    200\u001b[39m     pass_fds=pass_fds,\n\u001b[32m    201\u001b[39m     **kwargs,\n\u001b[32m    202\u001b[39m )\n",
      "\u001b[36mFile \u001b[39m\u001b[32mc:\\Users\\91981\\agentic_ai\\agents\\.venv\\Lib\\site-packages\\anyio\\_backends\\_asyncio.py:2561\u001b[39m, in \u001b[36mAsyncIOBackend.open_process\u001b[39m\u001b[34m(cls, command, stdin, stdout, stderr, **kwargs)\u001b[39m\n\u001b[32m   2560\u001b[39m \u001b[38;5;28;01melse\u001b[39;00m:\n\u001b[32m-> \u001b[39m\u001b[32m2561\u001b[39m     process = \u001b[38;5;28;01mawait\u001b[39;00m asyncio.create_subprocess_exec(\n\u001b[32m   2562\u001b[39m         *command,\n\u001b[32m   2563\u001b[39m         stdin=stdin,\n\u001b[32m   2564\u001b[39m         stdout=stdout,\n\u001b[32m   2565\u001b[39m         stderr=stderr,\n\u001b[32m   2566\u001b[39m         **kwargs,\n\u001b[32m   2567\u001b[39m     )\n\u001b[32m   2569\u001b[39m stdin_stream = StreamWriterWrapper(process.stdin) \u001b[38;5;28;01mif\u001b[39;00m process.stdin \u001b[38;5;28;01melse\u001b[39;00m \u001b[38;5;28;01mNone\u001b[39;00m\n",
      "\u001b[36mFile \u001b[39m\u001b[32m~\\AppData\\Local\\Programs\\Python\\Python312\\Lib\\asyncio\\subprocess.py:224\u001b[39m, in \u001b[36mcreate_subprocess_exec\u001b[39m\u001b[34m(program, stdin, stdout, stderr, limit, *args, **kwds)\u001b[39m\n\u001b[32m    222\u001b[39m protocol_factory = \u001b[38;5;28;01mlambda\u001b[39;00m: SubprocessStreamProtocol(limit=limit,\n\u001b[32m    223\u001b[39m                                                     loop=loop)\n\u001b[32m--> \u001b[39m\u001b[32m224\u001b[39m transport, protocol = \u001b[38;5;28;01mawait\u001b[39;00m loop.subprocess_exec(\n\u001b[32m    225\u001b[39m     protocol_factory,\n\u001b[32m    226\u001b[39m     program, *args,\n\u001b[32m    227\u001b[39m     stdin=stdin, stdout=stdout,\n\u001b[32m    228\u001b[39m     stderr=stderr, **kwds)\n\u001b[32m    229\u001b[39m \u001b[38;5;28;01mreturn\u001b[39;00m Process(transport, protocol, loop)\n",
      "\u001b[36mFile \u001b[39m\u001b[32m~\\AppData\\Local\\Programs\\Python\\Python312\\Lib\\asyncio\\base_events.py:1743\u001b[39m, in \u001b[36mBaseEventLoop.subprocess_exec\u001b[39m\u001b[34m(self, protocol_factory, program, stdin, stdout, stderr, universal_newlines, shell, bufsize, encoding, errors, text, *args, **kwargs)\u001b[39m\n\u001b[32m   1742\u001b[39m     \u001b[38;5;28mself\u001b[39m._log_subprocess(debug_log, stdin, stdout, stderr)\n\u001b[32m-> \u001b[39m\u001b[32m1743\u001b[39m transport = \u001b[38;5;28;01mawait\u001b[39;00m \u001b[38;5;28mself\u001b[39m._make_subprocess_transport(\n\u001b[32m   1744\u001b[39m     protocol, popen_args, \u001b[38;5;28;01mFalse\u001b[39;00m, stdin, stdout, stderr,\n\u001b[32m   1745\u001b[39m     bufsize, **kwargs)\n\u001b[32m   1746\u001b[39m \u001b[38;5;28;01mif\u001b[39;00m \u001b[38;5;28mself\u001b[39m._debug \u001b[38;5;129;01mand\u001b[39;00m debug_log \u001b[38;5;129;01mis\u001b[39;00m \u001b[38;5;129;01mnot\u001b[39;00m \u001b[38;5;28;01mNone\u001b[39;00m:\n",
      "\u001b[36mFile \u001b[39m\u001b[32m~\\AppData\\Local\\Programs\\Python\\Python312\\Lib\\asyncio\\base_events.py:524\u001b[39m, in \u001b[36mBaseEventLoop._make_subprocess_transport\u001b[39m\u001b[34m(self, protocol, args, shell, stdin, stdout, stderr, bufsize, extra, **kwargs)\u001b[39m\n\u001b[32m    523\u001b[39m \u001b[38;5;250m\u001b[39m\u001b[33;03m\"\"\"Create subprocess transport.\"\"\"\u001b[39;00m\n\u001b[32m--> \u001b[39m\u001b[32m524\u001b[39m \u001b[38;5;28;01mraise\u001b[39;00m \u001b[38;5;167;01mNotImplementedError\u001b[39;00m\n",
      "\u001b[31mNotImplementedError\u001b[39m: ",
      "\nDuring handling of the above exception, another exception occurred:\n",
      "\u001b[31mNotImplementedError\u001b[39m                       Traceback (most recent call last)",
      "\u001b[36mCell\u001b[39m\u001b[36m \u001b[39m\u001b[32mIn[3]\u001b[39m\u001b[32m, line 3\u001b[39m\n\u001b[32m      1\u001b[39m fetch_params = {\u001b[33m\"\u001b[39m\u001b[33mcommand\u001b[39m\u001b[33m\"\u001b[39m: \u001b[33m\"\u001b[39m\u001b[33muvx\u001b[39m\u001b[33m\"\u001b[39m, \u001b[33m\"\u001b[39m\u001b[33margs\u001b[39m\u001b[33m\"\u001b[39m: [\u001b[33m\"\u001b[39m\u001b[33mmcp-server-fetch\u001b[39m\u001b[33m\"\u001b[39m]}\n\u001b[32m----> \u001b[39m\u001b[32m3\u001b[39m \u001b[38;5;28;01masync\u001b[39;00m \u001b[38;5;28;01mwith\u001b[39;00m MCPServerStdio(params=fetch_params, client_session_timeout_seconds=\u001b[32m60\u001b[39m) \u001b[38;5;28;01mas\u001b[39;00m server:\n\u001b[32m      4\u001b[39m     fetch_tools = \u001b[38;5;28;01mawait\u001b[39;00m server.list_tools()\n\u001b[32m      6\u001b[39m fetch_tools\n",
      "\u001b[36mFile \u001b[39m\u001b[32mc:\\Users\\91981\\agentic_ai\\agents\\.venv\\Lib\\site-packages\\agents\\mcp\\server.py:98\u001b[39m, in \u001b[36m_MCPServerWithClientSession.__aenter__\u001b[39m\u001b[34m(self)\u001b[39m\n\u001b[32m     97\u001b[39m \u001b[38;5;28;01masync\u001b[39;00m \u001b[38;5;28;01mdef\u001b[39;00m\u001b[38;5;250m \u001b[39m\u001b[34m__aenter__\u001b[39m(\u001b[38;5;28mself\u001b[39m):\n\u001b[32m---> \u001b[39m\u001b[32m98\u001b[39m     \u001b[38;5;28;01mawait\u001b[39;00m \u001b[38;5;28mself\u001b[39m.connect()\n\u001b[32m     99\u001b[39m     \u001b[38;5;28;01mreturn\u001b[39;00m \u001b[38;5;28mself\u001b[39m\n",
      "\u001b[36mFile \u001b[39m\u001b[32mc:\\Users\\91981\\agentic_ai\\agents\\.venv\\Lib\\site-packages\\agents\\mcp\\server.py:111\u001b[39m, in \u001b[36m_MCPServerWithClientSession.connect\u001b[39m\u001b[34m(self)\u001b[39m\n\u001b[32m    109\u001b[39m \u001b[38;5;250m\u001b[39m\u001b[33;03m\"\"\"Connect to the server.\"\"\"\u001b[39;00m\n\u001b[32m    110\u001b[39m \u001b[38;5;28;01mtry\u001b[39;00m:\n\u001b[32m--> \u001b[39m\u001b[32m111\u001b[39m     transport = \u001b[38;5;28;01mawait\u001b[39;00m \u001b[38;5;28mself\u001b[39m.exit_stack.enter_async_context(\u001b[38;5;28mself\u001b[39m.create_streams())\n\u001b[32m    112\u001b[39m     \u001b[38;5;66;03m# streamablehttp_client returns (read, write, get_session_id)\u001b[39;00m\n\u001b[32m    113\u001b[39m     \u001b[38;5;66;03m# sse_client returns (read, write)\u001b[39;00m\n\u001b[32m    115\u001b[39m     read, write, *_ = transport\n",
      "\u001b[36mFile \u001b[39m\u001b[32m~\\AppData\\Local\\Programs\\Python\\Python312\\Lib\\contextlib.py:659\u001b[39m, in \u001b[36mAsyncExitStack.enter_async_context\u001b[39m\u001b[34m(self, cm)\u001b[39m\n\u001b[32m    655\u001b[39m \u001b[38;5;28;01mexcept\u001b[39;00m \u001b[38;5;167;01mAttributeError\u001b[39;00m:\n\u001b[32m    656\u001b[39m     \u001b[38;5;28;01mraise\u001b[39;00m \u001b[38;5;167;01mTypeError\u001b[39;00m(\u001b[33mf\u001b[39m\u001b[33m\"\u001b[39m\u001b[33m'\u001b[39m\u001b[38;5;132;01m{\u001b[39;00m\u001b[38;5;28mcls\u001b[39m.\u001b[34m__module__\u001b[39m\u001b[38;5;132;01m}\u001b[39;00m\u001b[33m.\u001b[39m\u001b[38;5;132;01m{\u001b[39;00m\u001b[38;5;28mcls\u001b[39m.\u001b[34m__qualname__\u001b[39m\u001b[38;5;132;01m}\u001b[39;00m\u001b[33m'\u001b[39m\u001b[33m object does \u001b[39m\u001b[33m\"\u001b[39m\n\u001b[32m    657\u001b[39m                     \u001b[33mf\u001b[39m\u001b[33m\"\u001b[39m\u001b[33mnot support the asynchronous context manager protocol\u001b[39m\u001b[33m\"\u001b[39m\n\u001b[32m    658\u001b[39m                    ) \u001b[38;5;28;01mfrom\u001b[39;00m\u001b[38;5;250m \u001b[39m\u001b[38;5;28;01mNone\u001b[39;00m\n\u001b[32m--> \u001b[39m\u001b[32m659\u001b[39m result = \u001b[38;5;28;01mawait\u001b[39;00m _enter(cm)\n\u001b[32m    660\u001b[39m \u001b[38;5;28mself\u001b[39m._push_async_cm_exit(cm, _exit)\n\u001b[32m    661\u001b[39m \u001b[38;5;28;01mreturn\u001b[39;00m result\n",
      "\u001b[36mFile \u001b[39m\u001b[32m~\\AppData\\Local\\Programs\\Python\\Python312\\Lib\\contextlib.py:210\u001b[39m, in \u001b[36m_AsyncGeneratorContextManager.__aenter__\u001b[39m\u001b[34m(self)\u001b[39m\n\u001b[32m    208\u001b[39m \u001b[38;5;28;01mdel\u001b[39;00m \u001b[38;5;28mself\u001b[39m.args, \u001b[38;5;28mself\u001b[39m.kwds, \u001b[38;5;28mself\u001b[39m.func\n\u001b[32m    209\u001b[39m \u001b[38;5;28;01mtry\u001b[39;00m:\n\u001b[32m--> \u001b[39m\u001b[32m210\u001b[39m     \u001b[38;5;28;01mreturn\u001b[39;00m \u001b[38;5;28;01mawait\u001b[39;00m anext(\u001b[38;5;28mself\u001b[39m.gen)\n\u001b[32m    211\u001b[39m \u001b[38;5;28;01mexcept\u001b[39;00m \u001b[38;5;167;01mStopAsyncIteration\u001b[39;00m:\n\u001b[32m    212\u001b[39m     \u001b[38;5;28;01mraise\u001b[39;00m \u001b[38;5;167;01mRuntimeError\u001b[39;00m(\u001b[33m\"\u001b[39m\u001b[33mgenerator didn\u001b[39m\u001b[33m'\u001b[39m\u001b[33mt yield\u001b[39m\u001b[33m\"\u001b[39m) \u001b[38;5;28;01mfrom\u001b[39;00m\u001b[38;5;250m \u001b[39m\u001b[38;5;28;01mNone\u001b[39;00m\n",
      "\u001b[36mFile \u001b[39m\u001b[32mc:\\Users\\91981\\agentic_ai\\agents\\.venv\\Lib\\site-packages\\mcp\\client\\stdio\\__init__.py:115\u001b[39m, in \u001b[36mstdio_client\u001b[39m\u001b[34m(server, errlog)\u001b[39m\n\u001b[32m    112\u001b[39m     command = _get_executable_command(server.command)\n\u001b[32m    114\u001b[39m     \u001b[38;5;66;03m# Open process with stderr piped for capture\u001b[39;00m\n\u001b[32m--> \u001b[39m\u001b[32m115\u001b[39m     process = \u001b[38;5;28;01mawait\u001b[39;00m _create_platform_compatible_process(\n\u001b[32m    116\u001b[39m         command=command,\n\u001b[32m    117\u001b[39m         args=server.args,\n\u001b[32m    118\u001b[39m         env=({**get_default_environment(), **server.env} \u001b[38;5;28;01mif\u001b[39;00m server.env \u001b[38;5;129;01mis\u001b[39;00m \u001b[38;5;129;01mnot\u001b[39;00m \u001b[38;5;28;01mNone\u001b[39;00m \u001b[38;5;28;01melse\u001b[39;00m get_default_environment()),\n\u001b[32m    119\u001b[39m         errlog=errlog,\n\u001b[32m    120\u001b[39m         cwd=server.cwd,\n\u001b[32m    121\u001b[39m     )\n\u001b[32m    122\u001b[39m \u001b[38;5;28;01mexcept\u001b[39;00m \u001b[38;5;167;01mOSError\u001b[39;00m:\n\u001b[32m    123\u001b[39m     \u001b[38;5;66;03m# Clean up streams if process creation fails\u001b[39;00m\n\u001b[32m    124\u001b[39m     \u001b[38;5;28;01mawait\u001b[39;00m read_stream.aclose()\n",
      "\u001b[36mFile \u001b[39m\u001b[32mc:\\Users\\91981\\agentic_ai\\agents\\.venv\\Lib\\site-packages\\mcp\\client\\stdio\\__init__.py:224\u001b[39m, in \u001b[36m_create_platform_compatible_process\u001b[39m\u001b[34m(command, args, env, errlog, cwd)\u001b[39m\n\u001b[32m    219\u001b[39m \u001b[38;5;250m\u001b[39m\u001b[33;03m\"\"\"\u001b[39;00m\n\u001b[32m    220\u001b[39m \u001b[33;03mCreates a subprocess in a platform-compatible way.\u001b[39;00m\n\u001b[32m    221\u001b[39m \u001b[33;03mReturns a process handle.\u001b[39;00m\n\u001b[32m    222\u001b[39m \u001b[33;03m\"\"\"\u001b[39;00m\n\u001b[32m    223\u001b[39m \u001b[38;5;28;01mif\u001b[39;00m sys.platform == \u001b[33m\"\u001b[39m\u001b[33mwin32\u001b[39m\u001b[33m\"\u001b[39m:\n\u001b[32m--> \u001b[39m\u001b[32m224\u001b[39m     process = \u001b[38;5;28;01mawait\u001b[39;00m create_windows_process(command, args, env, errlog, cwd)\n\u001b[32m    225\u001b[39m \u001b[38;5;28;01melse\u001b[39;00m:\n\u001b[32m    226\u001b[39m     process = \u001b[38;5;28;01mawait\u001b[39;00m anyio.open_process([command, *args], env=env, stderr=errlog, cwd=cwd)\n",
      "\u001b[36mFile \u001b[39m\u001b[32mc:\\Users\\91981\\agentic_ai\\agents\\.venv\\Lib\\site-packages\\mcp\\client\\stdio\\win32.py:85\u001b[39m, in \u001b[36mcreate_windows_process\u001b[39m\u001b[34m(command, args, env, errlog, cwd)\u001b[39m\n\u001b[32m     82\u001b[39m     \u001b[38;5;28;01mreturn\u001b[39;00m process\n\u001b[32m     83\u001b[39m \u001b[38;5;28;01mexcept\u001b[39;00m \u001b[38;5;167;01mException\u001b[39;00m:\n\u001b[32m     84\u001b[39m     \u001b[38;5;66;03m# Don't raise, let's try to create the process without creation flags\u001b[39;00m\n\u001b[32m---> \u001b[39m\u001b[32m85\u001b[39m     process = \u001b[38;5;28;01mawait\u001b[39;00m anyio.open_process([command, *args], env=env, stderr=errlog, cwd=cwd)\n\u001b[32m     86\u001b[39m     \u001b[38;5;28;01mreturn\u001b[39;00m process\n",
      "\u001b[36mFile \u001b[39m\u001b[32mc:\\Users\\91981\\agentic_ai\\agents\\.venv\\Lib\\site-packages\\anyio\\_core\\_subprocesses.py:190\u001b[39m, in \u001b[36mopen_process\u001b[39m\u001b[34m(command, stdin, stdout, stderr, cwd, env, startupinfo, creationflags, start_new_session, pass_fds, user, group, extra_groups, umask)\u001b[39m\n\u001b[32m    187\u001b[39m \u001b[38;5;28;01mif\u001b[39;00m umask >= \u001b[32m0\u001b[39m:\n\u001b[32m    188\u001b[39m     kwargs[\u001b[33m\"\u001b[39m\u001b[33mumask\u001b[39m\u001b[33m\"\u001b[39m] = umask\n\u001b[32m--> \u001b[39m\u001b[32m190\u001b[39m \u001b[38;5;28;01mreturn\u001b[39;00m \u001b[38;5;28;01mawait\u001b[39;00m get_async_backend().open_process(\n\u001b[32m    191\u001b[39m     command,\n\u001b[32m    192\u001b[39m     stdin=stdin,\n\u001b[32m    193\u001b[39m     stdout=stdout,\n\u001b[32m    194\u001b[39m     stderr=stderr,\n\u001b[32m    195\u001b[39m     cwd=cwd,\n\u001b[32m    196\u001b[39m     env=env,\n\u001b[32m    197\u001b[39m     startupinfo=startupinfo,\n\u001b[32m    198\u001b[39m     creationflags=creationflags,\n\u001b[32m    199\u001b[39m     start_new_session=start_new_session,\n\u001b[32m    200\u001b[39m     pass_fds=pass_fds,\n\u001b[32m    201\u001b[39m     **kwargs,\n\u001b[32m    202\u001b[39m )\n",
      "\u001b[36mFile \u001b[39m\u001b[32mc:\\Users\\91981\\agentic_ai\\agents\\.venv\\Lib\\site-packages\\anyio\\_backends\\_asyncio.py:2561\u001b[39m, in \u001b[36mAsyncIOBackend.open_process\u001b[39m\u001b[34m(cls, command, stdin, stdout, stderr, **kwargs)\u001b[39m\n\u001b[32m   2553\u001b[39m     process = \u001b[38;5;28;01mawait\u001b[39;00m asyncio.create_subprocess_shell(\n\u001b[32m   2554\u001b[39m         command,\n\u001b[32m   2555\u001b[39m         stdin=stdin,\n\u001b[32m   (...)\u001b[39m\u001b[32m   2558\u001b[39m         **kwargs,\n\u001b[32m   2559\u001b[39m     )\n\u001b[32m   2560\u001b[39m \u001b[38;5;28;01melse\u001b[39;00m:\n\u001b[32m-> \u001b[39m\u001b[32m2561\u001b[39m     process = \u001b[38;5;28;01mawait\u001b[39;00m asyncio.create_subprocess_exec(\n\u001b[32m   2562\u001b[39m         *command,\n\u001b[32m   2563\u001b[39m         stdin=stdin,\n\u001b[32m   2564\u001b[39m         stdout=stdout,\n\u001b[32m   2565\u001b[39m         stderr=stderr,\n\u001b[32m   2566\u001b[39m         **kwargs,\n\u001b[32m   2567\u001b[39m     )\n\u001b[32m   2569\u001b[39m stdin_stream = StreamWriterWrapper(process.stdin) \u001b[38;5;28;01mif\u001b[39;00m process.stdin \u001b[38;5;28;01melse\u001b[39;00m \u001b[38;5;28;01mNone\u001b[39;00m\n\u001b[32m   2570\u001b[39m stdout_stream = StreamReaderWrapper(process.stdout) \u001b[38;5;28;01mif\u001b[39;00m process.stdout \u001b[38;5;28;01melse\u001b[39;00m \u001b[38;5;28;01mNone\u001b[39;00m\n",
      "\u001b[36mFile \u001b[39m\u001b[32m~\\AppData\\Local\\Programs\\Python\\Python312\\Lib\\asyncio\\subprocess.py:224\u001b[39m, in \u001b[36mcreate_subprocess_exec\u001b[39m\u001b[34m(program, stdin, stdout, stderr, limit, *args, **kwds)\u001b[39m\n\u001b[32m    221\u001b[39m loop = events.get_running_loop()\n\u001b[32m    222\u001b[39m protocol_factory = \u001b[38;5;28;01mlambda\u001b[39;00m: SubprocessStreamProtocol(limit=limit,\n\u001b[32m    223\u001b[39m                                                     loop=loop)\n\u001b[32m--> \u001b[39m\u001b[32m224\u001b[39m transport, protocol = \u001b[38;5;28;01mawait\u001b[39;00m loop.subprocess_exec(\n\u001b[32m    225\u001b[39m     protocol_factory,\n\u001b[32m    226\u001b[39m     program, *args,\n\u001b[32m    227\u001b[39m     stdin=stdin, stdout=stdout,\n\u001b[32m    228\u001b[39m     stderr=stderr, **kwds)\n\u001b[32m    229\u001b[39m \u001b[38;5;28;01mreturn\u001b[39;00m Process(transport, protocol, loop)\n",
      "\u001b[36mFile \u001b[39m\u001b[32m~\\AppData\\Local\\Programs\\Python\\Python312\\Lib\\asyncio\\base_events.py:1743\u001b[39m, in \u001b[36mBaseEventLoop.subprocess_exec\u001b[39m\u001b[34m(self, protocol_factory, program, stdin, stdout, stderr, universal_newlines, shell, bufsize, encoding, errors, text, *args, **kwargs)\u001b[39m\n\u001b[32m   1741\u001b[39m     debug_log = \u001b[33mf\u001b[39m\u001b[33m'\u001b[39m\u001b[33mexecute program \u001b[39m\u001b[38;5;132;01m{\u001b[39;00mprogram\u001b[38;5;132;01m!r}\u001b[39;00m\u001b[33m'\u001b[39m\n\u001b[32m   1742\u001b[39m     \u001b[38;5;28mself\u001b[39m._log_subprocess(debug_log, stdin, stdout, stderr)\n\u001b[32m-> \u001b[39m\u001b[32m1743\u001b[39m transport = \u001b[38;5;28;01mawait\u001b[39;00m \u001b[38;5;28mself\u001b[39m._make_subprocess_transport(\n\u001b[32m   1744\u001b[39m     protocol, popen_args, \u001b[38;5;28;01mFalse\u001b[39;00m, stdin, stdout, stderr,\n\u001b[32m   1745\u001b[39m     bufsize, **kwargs)\n\u001b[32m   1746\u001b[39m \u001b[38;5;28;01mif\u001b[39;00m \u001b[38;5;28mself\u001b[39m._debug \u001b[38;5;129;01mand\u001b[39;00m debug_log \u001b[38;5;129;01mis\u001b[39;00m \u001b[38;5;129;01mnot\u001b[39;00m \u001b[38;5;28;01mNone\u001b[39;00m:\n\u001b[32m   1747\u001b[39m     logger.info(\u001b[33m'\u001b[39m\u001b[38;5;132;01m%s\u001b[39;00m\u001b[33m: \u001b[39m\u001b[38;5;132;01m%r\u001b[39;00m\u001b[33m'\u001b[39m, debug_log, transport)\n",
      "\u001b[36mFile \u001b[39m\u001b[32m~\\AppData\\Local\\Programs\\Python\\Python312\\Lib\\asyncio\\base_events.py:524\u001b[39m, in \u001b[36mBaseEventLoop._make_subprocess_transport\u001b[39m\u001b[34m(self, protocol, args, shell, stdin, stdout, stderr, bufsize, extra, **kwargs)\u001b[39m\n\u001b[32m    520\u001b[39m \u001b[38;5;28;01masync\u001b[39;00m \u001b[38;5;28;01mdef\u001b[39;00m\u001b[38;5;250m \u001b[39m\u001b[34m_make_subprocess_transport\u001b[39m(\u001b[38;5;28mself\u001b[39m, protocol, args, shell,\n\u001b[32m    521\u001b[39m                                      stdin, stdout, stderr, bufsize,\n\u001b[32m    522\u001b[39m                                      extra=\u001b[38;5;28;01mNone\u001b[39;00m, **kwargs):\n\u001b[32m    523\u001b[39m \u001b[38;5;250m    \u001b[39m\u001b[33;03m\"\"\"Create subprocess transport.\"\"\"\u001b[39;00m\n\u001b[32m--> \u001b[39m\u001b[32m524\u001b[39m     \u001b[38;5;28;01mraise\u001b[39;00m \u001b[38;5;167;01mNotImplementedError\u001b[39;00m\n",
      "\u001b[31mNotImplementedError\u001b[39m: "
     ]
    }
   ],
   "source": [
    "fetch_params = {\"command\": \"uvx\", \"args\": [\"mcp-server-fetch\"]}\n",
    "\n",
    "async with MCPServerStdio(params=fetch_params, client_session_timeout_seconds=60) as server:\n",
    "    fetch_tools = await server.list_tools()\n",
    "\n",
    "fetch_tools"
   ]
  },
  {
   "cell_type": "markdown",
   "metadata": {},
   "source": [
    "## Extra installation step - if you don't have \"node\" on your computer\n",
    "\n",
    "The next MCP tool uses node (the Javascript Server), and it needs you to have the command 'npx' installed on your computer.\n",
    "\n",
    "You may already have this, but if not, here are super clear instructions on exactly what to do, courtesy of our friend.  \n",
    "And thank you to student avid_learner for pointing this out.\n",
    "\n",
    "https://chatgpt.com/share/68103af2-e2dc-8012-b259-bc135a23273b\n",
    "\n",
    "**Windows Users take note:** node needs to be installed on your WSL platform, rather than your Windows side.  \n",
    "And some windows users have mentioned that they needed to replace \"npx\" below with a full path to npx to get this to work properly.."
   ]
  },
  {
   "cell_type": "markdown",
   "metadata": {},
   "source": [
    "### And now repeat for 2 more!\n",
    "\n",
    "The first one is to be able to run Playwright.\n",
    "\n",
    "It's possible that you will need to run these commands in a Terminal for this to work:\n",
    "\n",
    "On Mac:  \n",
    "`playwright install`\n",
    "\n",
    "On Linux / WSL:  \n",
    "`playwright install --with-deps chromium`\n",
    "\n",
    "Student Mariano R. mentioned that you might also need to do this in a cursor terminal:\n",
    "\n",
    "`uv run playwright install chromium`"
   ]
  },
  {
   "cell_type": "code",
   "execution_count": null,
   "metadata": {},
   "outputs": [],
   "source": [
    "playwright_params = {\"command\": \"npx\",\"args\": [ \"@playwright/mcp@latest\"]}\n",
    "\n",
    "async with MCPServerStdio(params=playwright_params, client_session_timeout_seconds=60) as server:\n",
    "    playwright_tools = await server.list_tools()\n",
    "\n",
    "playwright_tools\n"
   ]
  },
  {
   "cell_type": "code",
   "execution_count": null,
   "metadata": {},
   "outputs": [],
   "source": [
    "\n",
    "sandbox_path = os.path.abspath(os.path.join(os.getcwd(), \"sandbox\"))\n",
    "files_params = {\"command\": \"npx\", \"args\": [\"-y\", \"@modelcontextprotocol/server-filesystem\", sandbox_path]}\n",
    "\n",
    "async with MCPServerStdio(params=files_params,client_session_timeout_seconds=60) as server:\n",
    "    file_tools = await server.list_tools()\n",
    "\n",
    "file_tools"
   ]
  },
  {
   "cell_type": "code",
   "execution_count": null,
   "metadata": {},
   "outputs": [],
   "source": []
  },
  {
   "cell_type": "markdown",
   "metadata": {},
   "source": [
    "### And now.. bring on the Agent with Tools!"
   ]
  },
  {
   "cell_type": "code",
   "execution_count": null,
   "metadata": {},
   "outputs": [],
   "source": [
    "instructions = \"\"\"\n",
    "You browse the internet to accomplish your instructions.\n",
    "You are highly capable at browsing the internet independently to accomplish your task, \n",
    "including accepting all cookies and clicking 'not now' as\n",
    "appropriate to get to the content you need. If one website isn't fruitful, try another. \n",
    "Be persistent until you have solved your assignment,\n",
    "trying different options and sites as needed.\n",
    "\"\"\"\n",
    "\n",
    "\n",
    "async with MCPServerStdio(params=files_params, client_session_timeout_seconds=60) as mcp_server_files:\n",
    "    async with MCPServerStdio(params=playwright_params, client_session_timeout_seconds=60) as mcp_server_browser:\n",
    "        agent = Agent(\n",
    "            name=\"investigator\", \n",
    "            instructions=instructions, \n",
    "            model=\"gpt-4.1-mini\",\n",
    "            mcp_servers=[mcp_server_files, mcp_server_browser]\n",
    "            )\n",
    "        with trace(\"investigate\"):\n",
    "            result = await Runner.run(agent, \"Find a great recipe for Banoffee Pie, then summarize it in markdown to banoffee.md\")\n",
    "            print(result.final_output)\n"
   ]
  },
  {
   "cell_type": "markdown",
   "metadata": {},
   "source": [
    "### Check out the trace\n",
    "\n",
    "https://platform.openai.com/traces\n",
    "\n",
    "### Now take a look at some MCP marketplaces\n",
    "\n",
    "https://mcp.so\n",
    "\n",
    "https://glama.ai/mcp\n",
    "\n",
    "https://smithery.ai/\n",
    "\n",
    "https://huggingface.co/blog/LLMhacker/top-11-essential-mcp-libraries\n",
    "\n",
    "HuggingFace great community article:\n",
    "https://huggingface.co/blog/Kseniase/mcp\n",
    "\n",
    "\n",
    "\n"
   ]
  },
  {
   "cell_type": "markdown",
   "metadata": {},
   "source": []
  }
 ],
 "metadata": {
  "kernelspec": {
   "display_name": ".venv",
   "language": "python",
   "name": "python3"
  },
  "language_info": {
   "codemirror_mode": {
    "name": "ipython",
    "version": 3
   },
   "file_extension": ".py",
   "mimetype": "text/x-python",
   "name": "python",
   "nbconvert_exporter": "python",
   "pygments_lexer": "ipython3",
   "version": "3.12.6"
  }
 },
 "nbformat": 4,
 "nbformat_minor": 2
}
