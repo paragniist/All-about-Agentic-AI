{
 "cells": [
  {
   "cell_type": "markdown",
   "metadata": {},
   "source": [
    "# Welcome to the start of your adventure in Agentic AI"
   ]
  },
  {
   "cell_type": "markdown",
   "metadata": {},
   "source": [
    "<table style=\"margin: 0; text-align: left; width:100%\">\n",
    "    <tr>\n",
    "        <td style=\"width: 150px; height: 150px; vertical-align: middle;\">\n",
    "            <img src=\"../assets/stop.png\" width=\"150\" height=\"150\" style=\"display: block;\" />\n",
    "        </td>\n",
    "        <td>\n",
    "            <h2 style=\"color:#ff7800;\">Are you ready for action??</h2>\n",
    "            <span style=\"color:#ff7800;\">Have you completed all the setup steps in the <a href=\"../setup/\">setup</a> folder?<br/>\n",
    "            Have you read the <a href=\"../README.md\">README</a>? Many common questions are answered here!<br/>\n",
    "            Have you checked out the guides in the <a href=\"../guides/01_intro.ipynb\">guides</a> folder?<br/>\n",
    "            Well in that case, you're ready!!\n",
    "            </span>\n",
    "        </td>\n",
    "    </tr>\n",
    "</table>"
   ]
  },
  {
   "cell_type": "markdown",
   "metadata": {},
   "source": [
    "<table style=\"margin: 0; text-align: left; width:100%\">\n",
    "    <tr>\n",
    "        <td style=\"width: 150px; height: 150px; vertical-align: middle;\">\n",
    "            <img src=\"../assets/tools.png\" width=\"150\" height=\"150\" style=\"display: block;\" />\n",
    "        </td>\n",
    "        <td>\n",
    "            <h2 style=\"color:#00bfff;\">This code is a live resource - keep an eye out for my updates</h2>\n",
    "            <span style=\"color:#00bfff;\">I push updates regularly. As people ask questions or have problems, I add more examples and improve explanations. As a result, the code below might not be identical to the videos, as I've added more steps and better comments. Consider this like an interactive book that accompanies the lectures.<br/><br/>\n",
    "            I try to send emails regularly with important updates related to the course. You can find this in the 'Announcements' section of Udemy in the left sidebar. You can also choose to receive my emails via your Notification Settings in Udemy. I'm respectful of your inbox and always try to add value with my emails!\n",
    "            </span>\n",
    "        </td>\n",
    "    </tr>\n",
    "</table>"
   ]
  },
  {
   "cell_type": "markdown",
   "metadata": {},
   "source": [
    "### And please do remember to contact me if I can help\n",
    "\n",
    "And I love to connect: https://www.linkedin.com/in/eddonner/\n",
    "\n",
    "\n",
    "### New to Notebooks like this one? Head over to the guides folder!\n",
    "\n",
    "Just to check you've already added the Python and Jupyter extensions to Cursor, if not already installed:\n",
    "- Open extensions (View >> extensions)\n",
    "- Search for python, and when the results show, click on the ms-python one, and Install it if not already installed\n",
    "- Search for jupyter, and when the results show, click on the Microsoft one, and Install it if not already installed  \n",
    "Then View >> Explorer to bring back the File Explorer.\n",
    "\n",
    "And then:\n",
    "1. Click where it says \"Select Kernel\" near the top right, and select the option called `.venv (Python 3.12.9)` or similar, which should be the first choice or the most prominent choice. You may need to choose \"Python Environments\" first.\n",
    "2. Click in each \"cell\" below, starting with the cell immediately below this text, and press Shift+Enter to run\n",
    "3. Enjoy!\n",
    "\n",
    "After you click \"Select Kernel\", if there is no option like `.venv (Python 3.12.9)` then please do the following:  \n",
    "1. On Mac: From the Cursor menu, choose Settings >> VS Code Settings (NOTE: be sure to select `VSCode Settings` not `Cursor Settings`);  \n",
    "On Windows PC: From the File menu, choose Preferences >> VS Code Settings(NOTE: be sure to select `VSCode Settings` not `Cursor Settings`)  \n",
    "2. In the Settings search bar, type \"venv\"  \n",
    "3. In the field \"Path to folder with a list of Virtual Environments\" put the path to the project root, like C:\\Users\\username\\projects\\agents (on a Windows PC) or /Users/username/projects/agents (on Mac or Linux).  \n",
    "And then try again.\n",
    "\n",
    "Having problems with missing Python versions in that list? Have you ever used Anaconda before? It might be interferring. Quit Cursor, bring up a new command line, and make sure that your Anaconda environment is deactivated:    \n",
    "`conda deactivate`  \n",
    "And if you still have any problems with conda and python versions, it's possible that you will need to run this too:  \n",
    "`conda config --set auto_activate_base false`  \n",
    "and then from within the Agents directory, you should be able to run `uv python list` and see the Python 3.12 version."
   ]
  },
  {
   "cell_type": "code",
   "execution_count": 1,
   "metadata": {},
   "outputs": [],
   "source": [
    "# First let's do an import. If you get an Import Error, double check that your Kernel is correct..\n",
    "\n",
    "from dotenv import load_dotenv\n"
   ]
  },
  {
   "cell_type": "code",
   "execution_count": 2,
   "metadata": {},
   "outputs": [
    {
     "data": {
      "text/plain": [
       "True"
      ]
     },
     "execution_count": 2,
     "metadata": {},
     "output_type": "execute_result"
    }
   ],
   "source": [
    "# Next it's time to load the API keys into environment variables\n",
    "# If this returns false, see the next cell!\n",
    "\n",
    "load_dotenv(override=True)"
   ]
  },
  {
   "cell_type": "markdown",
   "metadata": {},
   "source": [
    "### Wait, did that just output `False`??\n",
    "\n",
    "If so, the most common reason is that you didn't save your `.env` file after adding the key! Be sure to have saved.\n",
    "\n",
    "Also, make sure the `.env` file is named precisely `.env` and is in the project root directory (`agents`)\n",
    "\n",
    "By the way, your `.env` file should have a stop symbol next to it in Cursor on the left, and that's actually a good thing: that's Cursor saying to you, \"hey, I realize this is a file filled with secret information, and I'm not going to send it to an external AI to suggest changes, because your keys should not be shown to anyone else.\""
   ]
  },
  {
   "cell_type": "markdown",
   "metadata": {},
   "source": [
    "<table style=\"margin: 0; text-align: left; width:100%\">\n",
    "    <tr>\n",
    "        <td style=\"width: 150px; height: 150px; vertical-align: middle;\">\n",
    "            <img src=\"../assets/stop.png\" width=\"150\" height=\"150\" style=\"display: block;\" />\n",
    "        </td>\n",
    "        <td>\n",
    "            <h2 style=\"color:#ff7800;\">Final reminders</h2>\n",
    "            <span style=\"color:#ff7800;\">1. If you're not confident about Environment Variables or Web Endpoints / APIs, please read Topics 3 and 5 in this <a href=\"../guides/04_technical_foundations.ipynb\">technical foundations guide</a>.<br/>\n",
    "            2. If you want to use AIs other than OpenAI, like Gemini, DeepSeek or Ollama (free), please see the first section in this <a href=\"../guides/09_ai_apis_and_ollama.ipynb\">AI APIs guide</a>.<br/>\n",
    "            3. If you ever get a Name Error in Python, you can always fix it immediately; see the last section of this <a href=\"../guides/06_python_foundations.ipynb\">Python Foundations guide</a> and follow both tutorials and exercises.<br/>\n",
    "            </span>\n",
    "        </td>\n",
    "    </tr>\n",
    "</table>"
   ]
  },
  {
   "cell_type": "code",
   "execution_count": 3,
   "metadata": {},
   "outputs": [
    {
     "name": "stdout",
     "output_type": "stream",
     "text": [
      "GROQ API Key exists and begins gsk_idfQ\n"
     ]
    }
   ],
   "source": [
    "# Check the key - if you're not using OpenAI, check whichever key you're using! Ollama doesn't need a key.\n",
    "\n",
    "import os\n",
    "groq_api_key = os.getenv('GROQ_API_KEY')\n",
    "\n",
    "if groq_api_key:\n",
    "    print(f\"GROQ API Key exists and begins {groq_api_key[:8]}\")\n",
    "else:\n",
    "    print(\"GROQ API Key not set - please head to the troubleshooting guide in the setup folder\")\n",
    "    \n"
   ]
  },
  {
   "cell_type": "code",
   "execution_count": 4,
   "metadata": {},
   "outputs": [],
   "source": [
    "# And now - the all important import statement\n",
    "# If you get an import error - head over to troubleshooting in the Setup folder\n",
    "# Even for other LLM providers like Gemini, you still use this OpenAI import - see Guide 9 for why\n",
    "\n",
    "import openai\n",
    "from openai import OpenAI"
   ]
  },
  {
   "cell_type": "code",
   "execution_count": 6,
   "metadata": {},
   "outputs": [],
   "source": [
    "# And now we'll create an instance of the OpenAI class\n",
    "# If you're not sure what it means to create an instance of a class - head over to the guides folder (guide 6)!\n",
    "# If you get a NameError - head over to the guides folder (guide 6)to learn about NameErrors - always instantly fixable\n",
    "# If you're not using OpenAI, you just need to slightly modify this - precise instructions are in the AI APIs guide (guide 9)\n",
    "\n",
    "client = OpenAI(\n",
    "    api_key = os.getenv(\"GROQ_API_KEY\"),\n",
    "    base_url = \"https://api.groq.com/openai/v1\"\n",
    ")"
   ]
  },
  {
   "cell_type": "code",
   "execution_count": 7,
   "metadata": {},
   "outputs": [
    {
     "name": "stdout",
     "output_type": "stream",
     "text": [
      "The answer to 2+2 is 4.\n"
     ]
    }
   ],
   "source": [
    "# And now call it! Any problems, head to the troubleshooting guide\n",
    "# This uses GPT 4.1 nano, the incredibly cheap model\n",
    "# The APIs guide (guide 9) has exact instructions for using even cheaper or free alternatives to OpenAI\n",
    "# If you get a NameError, head to the guides folder (guide 6) to learn about NameErrors - always instantly fixable\n",
    "\n",
    "# Define messages\n",
    "messages = [{\"role\": \"user\", \"content\": \"What is 2+2?\"}]\n",
    "\n",
    "response = client.chat.completions.create(\n",
    "    model = \"llama3-70b-8192\",\n",
    "    messages = messages\n",
    ")\n",
    "print(response.choices[0].message.content)\n",
    "\n",
    "\n"
   ]
  },
  {
   "cell_type": "code",
   "execution_count": 8,
   "metadata": {},
   "outputs": [],
   "source": [
    "# And now - let's ask for a question:\n",
    "\n",
    "question = \"Please propose a hard, challenging question to assess someone's IQ. Respond only with the question.\"\n",
    "messages = [{\"role\": \"user\", \"content\": question}]\n"
   ]
  },
  {
   "cell_type": "code",
   "execution_count": 9,
   "metadata": {},
   "outputs": [
    {
     "name": "stdout",
     "output_type": "stream",
     "text": [
      "A snail is at the bottom of a 20-foot well. Each day, it climbs up 3 feet, but at night, it slips back 2 feet. How many days will it take for the snail to reach the top of the well?\n"
     ]
    }
   ],
   "source": [
    "# ask it - this uses GPT 4.1 mini, still cheap but more powerful than nano\n",
    "\n",
    "response = client.chat.completions.create(\n",
    "    model=\"llama3-70b-8192\",\n",
    "    messages=messages\n",
    ")\n",
    "\n",
    "question = response.choices[0].message.content\n",
    "\n",
    "print(question)\n"
   ]
  },
  {
   "cell_type": "code",
   "execution_count": 10,
   "metadata": {},
   "outputs": [],
   "source": [
    "# form a new messages list\n",
    "messages = [{\"role\": \"user\", \"content\": question}]\n"
   ]
  },
  {
   "cell_type": "code",
   "execution_count": 11,
   "metadata": {},
   "outputs": [
    {
     "name": "stdout",
     "output_type": "stream",
     "text": [
      "This is a classic problem of progress and regression!\n",
      "\n",
      "Let's break it down:\n",
      "\n",
      "Each day, the snail climbs 3 feet, so it makes a net progress of 3 - 2 = 1 foot per day (since it slips back 2 feet at night).\n",
      "\n",
      "To reach the top of the 20-foot well, the snail needs to make a total progress of 20 feet.\n",
      "\n",
      "Since the snail makes a net progress of 1 foot per day, it will take:\n",
      "\n",
      "20 feet (total progress needed) ÷ 1 foot/day (net progress) = 20 days\n",
      "\n",
      "for the snail to reach the top of the well.\n",
      "\n",
      "So, it will take 20 days for the snail to escape the well!\n"
     ]
    }
   ],
   "source": [
    "# Ask it again\n",
    "\n",
    "response = client.chat.completions.create(\n",
    "    model=\"llama3-70b-8192\",\n",
    "    messages=messages\n",
    ")\n",
    "\n",
    "answer = response.choices[0].message.content\n",
    "print(answer)\n"
   ]
  },
  {
   "cell_type": "code",
   "execution_count": 12,
   "metadata": {},
   "outputs": [
    {
     "data": {
      "text/markdown": [
       "This is a classic problem of progress and regression!\n",
       "\n",
       "Let's break it down:\n",
       "\n",
       "Each day, the snail climbs 3 feet, so it makes a net progress of 3 - 2 = 1 foot per day (since it slips back 2 feet at night).\n",
       "\n",
       "To reach the top of the 20-foot well, the snail needs to make a total progress of 20 feet.\n",
       "\n",
       "Since the snail makes a net progress of 1 foot per day, it will take:\n",
       "\n",
       "20 feet (total progress needed) ÷ 1 foot/day (net progress) = 20 days\n",
       "\n",
       "for the snail to reach the top of the well.\n",
       "\n",
       "So, it will take 20 days for the snail to escape the well!"
      ],
      "text/plain": [
       "<IPython.core.display.Markdown object>"
      ]
     },
     "metadata": {},
     "output_type": "display_data"
    }
   ],
   "source": [
    "from IPython.display import Markdown, display\n",
    "\n",
    "display(Markdown(answer))\n",
    "\n"
   ]
  },
  {
   "cell_type": "markdown",
   "metadata": {},
   "source": [
    "# Congratulations!\n",
    "\n",
    "That was a small, simple step in the direction of Agentic AI, with your new environment!\n",
    "\n",
    "Next time things get more interesting..."
   ]
  },
  {
   "cell_type": "markdown",
   "metadata": {},
   "source": [
    "<table style=\"margin: 0; text-align: left; width:100%\">\n",
    "    <tr>\n",
    "        <td style=\"width: 150px; height: 150px; vertical-align: middle;\">\n",
    "            <img src=\"../assets/exercise.png\" width=\"150\" height=\"150\" style=\"display: block;\" />\n",
    "        </td>\n",
    "        <td>\n",
    "            <h2 style=\"color:#ff7800;\">Exercise</h2>\n",
    "            <span style=\"color:#ff7800;\">Now try this commercial application:<br/>\n",
    "            First ask the LLM to pick a business area that might be worth exploring for an Agentic AI opportunity.<br/>\n",
    "            Then ask the LLM to present a pain-point in that industry - something challenging that might be ripe for an Agentic solution.<br/>\n",
    "            Finally have 3 third LLM call propose the Agentic AI solution. <br/>\n",
    "            We will cover this at up-coming labs, so don't worry if you're unsure.. just give it a try!\n",
    "            </span>\n",
    "        </td>\n",
    "    </tr>\n",
    "</table>"
   ]
  },
  {
   "cell_type": "code",
   "execution_count": 14,
   "metadata": {},
   "outputs": [
    {
     "name": "stdout",
     "output_type": "stream",
     "text": [
      "Let's explore an Agentic AI opportunity in the business area of:\n",
      "\n",
      "**Supply Chain Optimization**\n",
      "\n",
      "Supply chain management is a complex and dynamic process that involves the coordination of multiple stakeholders, including manufacturers, suppliers, logistics providers, warehouses, and retailers. The goal of supply chain optimization is to maximize efficiency, minimize costs, and improve customer satisfaction by ensuring that products are delivered on time and in full.\n",
      "\n",
      "There are several reasons why supply chain optimization is an attractive area for Agentic AI:\n",
      "\n",
      "1. **Complexity**: Supply chains involve multiple variables, including demand forecasts, inventory levels, transportation modes, and routing options, making it an ideal application for AI's ability to handle complex systems.\n",
      "2. **Data richness**: Supply chains generate vast amounts of data, including sensor data from IoT devices, transactional data from ERP systems, and external data from weather services or traffic management systems. This data richness provides an opportunity for AI to learn and improve over time.\n",
      "3. **Real-time decision-making**: Supply chains require fast and adaptive decision-making to respond to disruptions, changes in demand, or supplier shortages. Agentic AI can enable real-time decision-making by analyzing data and generating recommendations for supply chain managers.\n",
      "4. **Autonomy**: Agentic AI can enable autonomous decision-making in supply chain optimization, allowing AI systems to make decisions independently, such as rerouting shipments in response to weather events or allocating inventory to meet changing demand patterns.\n",
      "\n",
      "Some potential Agentic AI applications in supply chain optimization include:\n",
      "\n",
      "1. **Predictive maintenance**: AI-powered predictive maintenance can help detect potential equipment failures in manufacturing and logistics, reducing downtime and improving overall supply chain efficiency.\n",
      "2. **Dynamic route optimization**: Agentic AI can optimize routes in real-time, taking into account traffic patterns, weather conditions, and other factors to reduce transportation costs and improve delivery times.\n",
      "3. **Inventory management**: AI can analyze demand patterns, seasonal trends, and supplier lead times to optimize inventory levels, reducing stockouts and overstocking.\n",
      "4. ** Supplier selection and management**: Agentic AI can analyze supplier performance data, risk profiles, and market trends to recommend the best suppliers for specific components or materials.\n",
      "\n",
      "By exploring Agentic AI opportunities in supply chain optimization, businesses can improve their operational efficiency, reduce costs, and enhance customer satisfaction. The potential for Agentic AI to transform supply chain management is significant, and it's an area worth exploring further.\n"
     ]
    }
   ],
   "source": [
    "# First create the messages:\n",
    "question = \" pick a business area that might be worth exploring for an Agentic AI opportunity.\"\n",
    "\n",
    "messages = [{\"role\": \"user\", \"content\":question}]\n",
    "\n",
    "# Then make the first call:\n",
    "\n",
    "response = client.chat.completions.create(\n",
    "    model=\"llama3-70b-8192\",\n",
    "    messages=messages\n",
    ")\n",
    "\n",
    "# Then read the business idea:\n",
    "\n",
    "business_idea = response.choices[0].message.content\n",
    "print(business_idea)\n",
    "\n",
    "# And repeat! In the next message, include the business idea within the message"
   ]
  },
  {
   "cell_type": "code",
   "execution_count": 18,
   "metadata": {},
   "outputs": [
    {
     "name": "stdout",
     "output_type": "stream",
     "text": [
      "Here's a potential pain-point in the Healthcare - Medical Imaging Analysis area that might be ripe for an Agentic solution:\n",
      "\n",
      "**Pain-Point:**\n",
      "\n",
      "**Inefficient and Inaccurate Detection of Rare but Critical Findings in Medical Imaging**\n",
      "\n",
      "**Background:** Medical imaging technologies, such as MRI and CT scans, generate vast amounts of data, which can be challenging to analyze accurately and efficiently. Radiologists and clinicians must review these images to identify abnormalities, diagnose diseases, and develop treatment plans. However, the sheer volume of images, complexity of cases, and time constraints can lead to:\n",
      "\n",
      "**Challenges:**\n",
      "\n",
      "1. **Missed diagnoses**: Critical but rare findings, such as cerebral aneurysms or pulmonary embolisms, may go undetected, leading to delayed or incorrect diagnoses, and potentially severe consequences for patients.\n",
      "2. **Inconsistent interpretations**: Different radiologists may interpret the same images differently, leading to variability in diagnosis and treatment.\n",
      "3. **Time-consuming reviews**: Radiologists spend a significant amount of time reviewing images, which can lead to fatigue, decreased productivity, and increased healthcare costs.\n",
      "4. ** Limited access to specialized expertise**: In remote or resource-constrained areas, access to specialized radiologists or imaging experts may be limited, further exacerbating the challenges.\n",
      "\n",
      "**Agentic Solution Opportunities:**\n",
      "\n",
      "To address these challenges, an Agentic solution could leverage AI, machine learning, and automation to:\n",
      "\n",
      "1. **Detect rare but critical findings**: Develop algorithms that can identify patterns and anomalies in medical images, highlighting potential issues that might be missed by human reviewers.\n",
      "2. **Standardize interpretations**: Create a platform that enables consistent and standardized image analysis, reducing variability in diagnosis and treatment.\n",
      "3. **Augment radiologist workflows**: Design an intelligent system that can prioritize images, automate routine tasks, and provide decision support to radiologists, freeing them to focus on complex cases.\n",
      "4. **Remote expertise access**: Develop a platform that enables remote consultations and second opinions from specialized radiologists, improving access to expertise in resource-constrained areas.\n",
      "\n",
      "**Potential Benefits:**\n",
      "\n",
      "1. Improved diagnostic accuracy and patient outcomes\n",
      "2. Enhanced radiologist productivity and job satisfaction\n",
      "3. Reduced healthcare costs through more efficient image analysis and interpretation\n",
      "4. Increased access to specialized expertise for remote or underserved communities\n",
      "\n",
      "By addressing these challenges, an Agentic solution can help revolutionize medical imaging analysis, improving patient care, reducing costs, and enhancing the overall efficiency of the healthcare system.\n"
     ]
    }
   ],
   "source": [
    "idea = \" present a pain-point in the Healthcare - Medical Imaging Analysis Area something challenging that might be ripe for an Agentic solution.\"\n",
    "messages2 = [{\"role\": \"user\", \"content\":idea}]\n",
    "\n",
    "response = client.chat.completions.create(\n",
    "    model=\"llama3-70b-8192\",\n",
    "    messages=messages2\n",
    ")\n",
    "\n",
    "print(response.choices[0].message.content)\n"
   ]
  },
  {
   "cell_type": "markdown",
   "metadata": {},
   "source": []
  }
 ],
 "metadata": {
  "kernelspec": {
   "display_name": ".venv",
   "language": "python",
   "name": "python3"
  },
  "language_info": {
   "codemirror_mode": {
    "name": "ipython",
    "version": 3
   },
   "file_extension": ".py",
   "mimetype": "text/x-python",
   "name": "python",
   "nbconvert_exporter": "python",
   "pygments_lexer": "ipython3",
   "version": "3.12.6"
  }
 },
 "nbformat": 4,
 "nbformat_minor": 2
}
